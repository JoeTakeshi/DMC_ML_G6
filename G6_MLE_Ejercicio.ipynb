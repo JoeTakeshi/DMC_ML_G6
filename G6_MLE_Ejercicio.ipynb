{
 "cells": [
  {
   "cell_type": "code",
   "execution_count": null,
   "id": "f3ded363",
   "metadata": {},
   "outputs": [],
   "source": [
    "#Pycaret:aa\n",
    "\n",
    "#from pycaret.regression import *\n",
    "\n",
    "#Pipeline de pycaret:\n",
    "\n",
    "#1. Setup() : Definir el dataset y parametros\n",
    "\n",
    "    #exp = setup(data=df, target='precio', session_id=12,normalize=True)\n",
    "\n",
    "#2. Compare_models(): Compara multiples modelos y los rankea\n",
    "\n",
    "    #mejor_modelo = compare_models()\n",
    "\n",
    "#3. Create model() : Crea un modelo especifico\n",
    "\n",
    "    #lr = create_model('lr') \n",
    "\n",
    "#4. Tune_model() :Ajuste automatico de hiperparametros\n",
    "\n",
    "    #tuned_lr = tune_model(lr)\n",
    "\n",
    "#5. plot_model(): visualiza (graficamente) el desempeño del modelo\n",
    "\n",
    "    #plot_model(tuned_lr,plot='residuals')\n",
    "\n",
    "    #plot_model(tuned_lr,plot='feature')\n",
    "\n",
    "#6. evaluate_model(): UI de evaluación del modelo\n",
    "\n",
    "    #evaluate_model(tuned_lr)\n",
    "\n",
    "#7. predict_model(): Predicciones sobre nuevos datos en el DF\n",
    "\n",
    "    #predicciones = predict_model(tuned_lr,data=nuevo_df)\n",
    "\n",
    "#8. save_model()/load_model(): Guardar y cargar modelo.\n",
    "\n",
    "    #save_model(tunel_lr,'modelo_final')"
   ]
  },
  {
   "cell_type": "code",
   "execution_count": null,
   "id": "56d0fcd4",
   "metadata": {},
   "outputs": [],
   "source": []
  }
 ],
 "metadata": {
  "kernelspec": {
   "display_name": "Python 3",
   "language": "python",
   "name": "python3"
  },
  "language_info": {
   "codemirror_mode": {
    "name": "ipython",
    "version": 3
   },
   "file_extension": ".py",
   "mimetype": "text/x-python",
   "name": "python",
   "nbconvert_exporter": "python",
   "pygments_lexer": "ipython3",
   "version": "3.11.0"
  }
 },
 "nbformat": 4,
 "nbformat_minor": 5
}
